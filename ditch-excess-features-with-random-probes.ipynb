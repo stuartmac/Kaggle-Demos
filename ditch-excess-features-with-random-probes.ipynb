{
 "cells": [
  {
   "cell_type": "markdown",
   "id": "34af49c6",
   "metadata": {
    "papermill": {
     "duration": 0.003502,
     "end_time": "2023-08-27T22:57:40.195567",
     "exception": false,
     "start_time": "2023-08-27T22:57:40.192065",
     "status": "completed"
    },
    "tags": []
   },
   "source": [
    "# Random Probe Feature Selection"
   ]
  },
  {
   "cell_type": "markdown",
   "id": "6c94ac3e",
   "metadata": {
    "papermill": {
     "duration": 0.002587,
     "end_time": "2023-08-27T22:57:40.201531",
     "exception": false,
     "start_time": "2023-08-27T22:57:40.198944",
     "status": "completed"
    },
    "tags": []
   },
   "source": [
    "\n",
    "In this notebook, we demonstrate the concept of using a \"random probe\" feature to rank and select important features in a machine learning model.\n",
    "We'll use a synthetic dataset and a simple linear regression model for this demonstration.\n",
    "\n",
    "## Steps:\n",
    "1. Generate a Synthetic Dataset\n",
    "2. Introduce a Random Probe\n",
    "3. Fit a Model\n",
    "4. Rank Features\n"
   ]
  },
  {
   "cell_type": "code",
   "execution_count": 1,
   "id": "d8cf6097",
   "metadata": {
    "execution": {
     "iopub.execute_input": "2023-08-27T22:57:40.208882Z",
     "iopub.status.busy": "2023-08-27T22:57:40.208464Z",
     "iopub.status.idle": "2023-08-27T22:57:41.462391Z",
     "shell.execute_reply": "2023-08-27T22:57:41.461263Z"
    },
    "papermill": {
     "duration": 1.260532,
     "end_time": "2023-08-27T22:57:41.464814",
     "exception": false,
     "start_time": "2023-08-27T22:57:40.204282",
     "status": "completed"
    },
    "tags": []
   },
   "outputs": [
    {
     "name": "stderr",
     "output_type": "stream",
     "text": [
      "/opt/conda/lib/python3.10/site-packages/scipy/__init__.py:146: UserWarning: A NumPy version >=1.16.5 and <1.23.0 is required for this version of SciPy (detected version 1.23.5\n",
      "  warnings.warn(f\"A NumPy version >={np_minversion} and <{np_maxversion}\"\n"
     ]
    },
    {
     "data": {
      "text/html": [
       "<div>\n",
       "<style scoped>\n",
       "    .dataframe tbody tr th:only-of-type {\n",
       "        vertical-align: middle;\n",
       "    }\n",
       "\n",
       "    .dataframe tbody tr th {\n",
       "        vertical-align: top;\n",
       "    }\n",
       "\n",
       "    .dataframe thead th {\n",
       "        text-align: right;\n",
       "    }\n",
       "</style>\n",
       "<table border=\"1\" class=\"dataframe\">\n",
       "  <thead>\n",
       "    <tr style=\"text-align: right;\">\n",
       "      <th></th>\n",
       "      <th>Feature_1</th>\n",
       "      <th>Feature_2</th>\n",
       "      <th>Feature_3</th>\n",
       "      <th>Feature_4</th>\n",
       "      <th>Feature_5</th>\n",
       "      <th>Target</th>\n",
       "    </tr>\n",
       "  </thead>\n",
       "  <tbody>\n",
       "    <tr>\n",
       "      <th>0</th>\n",
       "      <td>-0.385314</td>\n",
       "      <td>0.199060</td>\n",
       "      <td>-0.600217</td>\n",
       "      <td>0.462103</td>\n",
       "      <td>0.069802</td>\n",
       "      <td>-28.346743</td>\n",
       "    </tr>\n",
       "    <tr>\n",
       "      <th>1</th>\n",
       "      <td>0.130741</td>\n",
       "      <td>1.632411</td>\n",
       "      <td>-1.430141</td>\n",
       "      <td>-1.247783</td>\n",
       "      <td>-0.440044</td>\n",
       "      <td>-94.823426</td>\n",
       "    </tr>\n",
       "    <tr>\n",
       "      <th>2</th>\n",
       "      <td>-0.773010</td>\n",
       "      <td>0.224092</td>\n",
       "      <td>0.012592</td>\n",
       "      <td>-0.401220</td>\n",
       "      <td>0.097676</td>\n",
       "      <td>-3.452789</td>\n",
       "    </tr>\n",
       "    <tr>\n",
       "      <th>3</th>\n",
       "      <td>-0.576771</td>\n",
       "      <td>-0.050238</td>\n",
       "      <td>-0.238948</td>\n",
       "      <td>0.270457</td>\n",
       "      <td>-0.907564</td>\n",
       "      <td>-11.095716</td>\n",
       "    </tr>\n",
       "    <tr>\n",
       "      <th>4</th>\n",
       "      <td>-0.575818</td>\n",
       "      <td>0.614167</td>\n",
       "      <td>0.757508</td>\n",
       "      <td>-0.220970</td>\n",
       "      <td>-0.530501</td>\n",
       "      <td>51.040021</td>\n",
       "    </tr>\n",
       "  </tbody>\n",
       "</table>\n",
       "</div>"
      ],
      "text/plain": [
       "   Feature_1  Feature_2  Feature_3  Feature_4  Feature_5     Target\n",
       "0  -0.385314   0.199060  -0.600217   0.462103   0.069802 -28.346743\n",
       "1   0.130741   1.632411  -1.430141  -1.247783  -0.440044 -94.823426\n",
       "2  -0.773010   0.224092   0.012592  -0.401220   0.097676  -3.452789\n",
       "3  -0.576771  -0.050238  -0.238948   0.270457  -0.907564 -11.095716\n",
       "4  -0.575818   0.614167   0.757508  -0.220970  -0.530501  51.040021"
      ]
     },
     "execution_count": 1,
     "metadata": {},
     "output_type": "execute_result"
    }
   ],
   "source": [
    "\n",
    "# Import necessary libraries\n",
    "from sklearn.datasets import make_regression\n",
    "import pandas as pd\n",
    "import numpy as np\n",
    "\n",
    "# Generate synthetic dataset\n",
    "np.random.seed(42)\n",
    "X, y = make_regression(n_samples=200, n_features=5, n_informative=3, noise=0.1, random_state=42)\n",
    "\n",
    "# Convert the dataset to a DataFrame\n",
    "df = pd.DataFrame(X, columns=[f'Feature_{i}' for i in range(1, 6)])\n",
    "df['Target'] = y\n",
    "\n",
    "df.head()\n"
   ]
  },
  {
   "cell_type": "markdown",
   "id": "8e7120d1",
   "metadata": {
    "papermill": {
     "duration": 0.00305,
     "end_time": "2023-08-27T22:57:41.471413",
     "exception": false,
     "start_time": "2023-08-27T22:57:41.468363",
     "status": "completed"
    },
    "tags": []
   },
   "source": [
    "\n",
    "## Introduce a Random Probe\n",
    "We add a random feature to act as our probe for feature ranking.\n"
   ]
  },
  {
   "cell_type": "code",
   "execution_count": 2,
   "id": "77176255",
   "metadata": {
    "execution": {
     "iopub.execute_input": "2023-08-27T22:57:41.479653Z",
     "iopub.status.busy": "2023-08-27T22:57:41.478970Z",
     "iopub.status.idle": "2023-08-27T22:57:41.494685Z",
     "shell.execute_reply": "2023-08-27T22:57:41.493443Z"
    },
    "papermill": {
     "duration": 0.022473,
     "end_time": "2023-08-27T22:57:41.497008",
     "exception": false,
     "start_time": "2023-08-27T22:57:41.474535",
     "status": "completed"
    },
    "tags": []
   },
   "outputs": [
    {
     "data": {
      "text/html": [
       "<div>\n",
       "<style scoped>\n",
       "    .dataframe tbody tr th:only-of-type {\n",
       "        vertical-align: middle;\n",
       "    }\n",
       "\n",
       "    .dataframe tbody tr th {\n",
       "        vertical-align: top;\n",
       "    }\n",
       "\n",
       "    .dataframe thead th {\n",
       "        text-align: right;\n",
       "    }\n",
       "</style>\n",
       "<table border=\"1\" class=\"dataframe\">\n",
       "  <thead>\n",
       "    <tr style=\"text-align: right;\">\n",
       "      <th></th>\n",
       "      <th>Feature_1</th>\n",
       "      <th>Feature_2</th>\n",
       "      <th>Feature_3</th>\n",
       "      <th>Feature_4</th>\n",
       "      <th>Feature_5</th>\n",
       "      <th>Target</th>\n",
       "      <th>Random_Probe</th>\n",
       "    </tr>\n",
       "  </thead>\n",
       "  <tbody>\n",
       "    <tr>\n",
       "      <th>0</th>\n",
       "      <td>-0.385314</td>\n",
       "      <td>0.199060</td>\n",
       "      <td>-0.600217</td>\n",
       "      <td>0.462103</td>\n",
       "      <td>0.069802</td>\n",
       "      <td>-28.346743</td>\n",
       "      <td>0.496714</td>\n",
       "    </tr>\n",
       "    <tr>\n",
       "      <th>1</th>\n",
       "      <td>0.130741</td>\n",
       "      <td>1.632411</td>\n",
       "      <td>-1.430141</td>\n",
       "      <td>-1.247783</td>\n",
       "      <td>-0.440044</td>\n",
       "      <td>-94.823426</td>\n",
       "      <td>-0.138264</td>\n",
       "    </tr>\n",
       "    <tr>\n",
       "      <th>2</th>\n",
       "      <td>-0.773010</td>\n",
       "      <td>0.224092</td>\n",
       "      <td>0.012592</td>\n",
       "      <td>-0.401220</td>\n",
       "      <td>0.097676</td>\n",
       "      <td>-3.452789</td>\n",
       "      <td>0.647689</td>\n",
       "    </tr>\n",
       "    <tr>\n",
       "      <th>3</th>\n",
       "      <td>-0.576771</td>\n",
       "      <td>-0.050238</td>\n",
       "      <td>-0.238948</td>\n",
       "      <td>0.270457</td>\n",
       "      <td>-0.907564</td>\n",
       "      <td>-11.095716</td>\n",
       "      <td>1.523030</td>\n",
       "    </tr>\n",
       "    <tr>\n",
       "      <th>4</th>\n",
       "      <td>-0.575818</td>\n",
       "      <td>0.614167</td>\n",
       "      <td>0.757508</td>\n",
       "      <td>-0.220970</td>\n",
       "      <td>-0.530501</td>\n",
       "      <td>51.040021</td>\n",
       "      <td>-0.234153</td>\n",
       "    </tr>\n",
       "  </tbody>\n",
       "</table>\n",
       "</div>"
      ],
      "text/plain": [
       "   Feature_1  Feature_2  Feature_3  Feature_4  Feature_5     Target  \\\n",
       "0  -0.385314   0.199060  -0.600217   0.462103   0.069802 -28.346743   \n",
       "1   0.130741   1.632411  -1.430141  -1.247783  -0.440044 -94.823426   \n",
       "2  -0.773010   0.224092   0.012592  -0.401220   0.097676  -3.452789   \n",
       "3  -0.576771  -0.050238  -0.238948   0.270457  -0.907564 -11.095716   \n",
       "4  -0.575818   0.614167   0.757508  -0.220970  -0.530501  51.040021   \n",
       "\n",
       "   Random_Probe  \n",
       "0      0.496714  \n",
       "1     -0.138264  \n",
       "2      0.647689  \n",
       "3      1.523030  \n",
       "4     -0.234153  "
      ]
     },
     "execution_count": 2,
     "metadata": {},
     "output_type": "execute_result"
    }
   ],
   "source": [
    "\n",
    "# Add a random probe feature\n",
    "df['Random_Probe'] = np.random.randn(df.shape[0])\n",
    "\n",
    "df.head()\n"
   ]
  },
  {
   "cell_type": "markdown",
   "id": "79a3acf2",
   "metadata": {
    "papermill": {
     "duration": 0.003183,
     "end_time": "2023-08-27T22:57:41.503652",
     "exception": false,
     "start_time": "2023-08-27T22:57:41.500469",
     "status": "completed"
    },
    "tags": []
   },
   "source": [
    "\n",
    "## Fit a Model\n",
    "We use linear regression to fit a model and examine the coefficients.\n"
   ]
  },
  {
   "cell_type": "code",
   "execution_count": 3,
   "id": "edfc1ee1",
   "metadata": {
    "execution": {
     "iopub.execute_input": "2023-08-27T22:57:41.512210Z",
     "iopub.status.busy": "2023-08-27T22:57:41.511801Z",
     "iopub.status.idle": "2023-08-27T22:57:41.749411Z",
     "shell.execute_reply": "2023-08-27T22:57:41.748348Z"
    },
    "papermill": {
     "duration": 0.244644,
     "end_time": "2023-08-27T22:57:41.751698",
     "exception": false,
     "start_time": "2023-08-27T22:57:41.507054",
     "status": "completed"
    },
    "tags": []
   },
   "outputs": [
    {
     "data": {
      "text/html": [
       "<div>\n",
       "<style scoped>\n",
       "    .dataframe tbody tr th:only-of-type {\n",
       "        vertical-align: middle;\n",
       "    }\n",
       "\n",
       "    .dataframe tbody tr th {\n",
       "        vertical-align: top;\n",
       "    }\n",
       "\n",
       "    .dataframe thead th {\n",
       "        text-align: right;\n",
       "    }\n",
       "</style>\n",
       "<table border=\"1\" class=\"dataframe\">\n",
       "  <thead>\n",
       "    <tr style=\"text-align: right;\">\n",
       "      <th></th>\n",
       "      <th>Feature</th>\n",
       "      <th>Coefficient</th>\n",
       "    </tr>\n",
       "  </thead>\n",
       "  <tbody>\n",
       "    <tr>\n",
       "      <th>2</th>\n",
       "      <td>Feature_3</td>\n",
       "      <td>63.648034</td>\n",
       "    </tr>\n",
       "    <tr>\n",
       "      <th>3</th>\n",
       "      <td>Feature_4</td>\n",
       "      <td>16.758093</td>\n",
       "    </tr>\n",
       "    <tr>\n",
       "      <th>1</th>\n",
       "      <td>Feature_2</td>\n",
       "      <td>10.458872</td>\n",
       "    </tr>\n",
       "    <tr>\n",
       "      <th>4</th>\n",
       "      <td>Feature_5</td>\n",
       "      <td>-0.003535</td>\n",
       "    </tr>\n",
       "    <tr>\n",
       "      <th>5</th>\n",
       "      <td>Random_Probe</td>\n",
       "      <td>0.001670</td>\n",
       "    </tr>\n",
       "    <tr>\n",
       "      <th>0</th>\n",
       "      <td>Feature_1</td>\n",
       "      <td>0.001627</td>\n",
       "    </tr>\n",
       "  </tbody>\n",
       "</table>\n",
       "</div>"
      ],
      "text/plain": [
       "        Feature  Coefficient\n",
       "2     Feature_3    63.648034\n",
       "3     Feature_4    16.758093\n",
       "1     Feature_2    10.458872\n",
       "4     Feature_5    -0.003535\n",
       "5  Random_Probe     0.001670\n",
       "0     Feature_1     0.001627"
      ]
     },
     "execution_count": 3,
     "metadata": {},
     "output_type": "execute_result"
    }
   ],
   "source": [
    "\n",
    "from sklearn.linear_model import LinearRegression\n",
    "\n",
    "# Prepare the features and target variable\n",
    "features = df.drop('Target', axis=1).columns\n",
    "X = df[features]\n",
    "y = df['Target']\n",
    "\n",
    "# Fit a linear regression model\n",
    "model = LinearRegression()\n",
    "model.fit(X, y)\n",
    "\n",
    "# Get the coefficients for each feature\n",
    "coefficients = pd.DataFrame({\n",
    "    'Feature': features,\n",
    "    'Coefficient': model.coef_\n",
    "}).sort_values('Coefficient', key=abs, ascending=False)\n",
    "\n",
    "coefficients\n"
   ]
  },
  {
   "cell_type": "markdown",
   "id": "64e210c8",
   "metadata": {
    "papermill": {
     "duration": 0.003309,
     "end_time": "2023-08-27T22:57:41.759113",
     "exception": false,
     "start_time": "2023-08-27T22:57:41.755804",
     "status": "completed"
    },
    "tags": []
   },
   "source": [
    "\n",
    "## Interpretation\n",
    "- Any feature with a coefficient lower than the random probe could be considered less important for the model.\n",
    "- Features with coefficients significantly higher than the random probe are likely to be important for the model.\n"
   ]
  },
  {
   "cell_type": "markdown",
   "id": "73d03089",
   "metadata": {
    "papermill": {
     "duration": 0.003223,
     "end_time": "2023-08-27T22:57:41.765863",
     "exception": false,
     "start_time": "2023-08-27T22:57:41.762640",
     "status": "completed"
    },
    "tags": []
   },
   "source": [
    "*Thanks for reading! Feel free to share your feedback or ask questions in the comments below. And if you found this helpful - please upvote! Check back again soon for more easy to follow demos of how to improve your code in future notebooks!*"
   ]
  },
  {
   "cell_type": "code",
   "execution_count": null,
   "id": "ede295a4",
   "metadata": {
    "papermill": {
     "duration": 0.003495,
     "end_time": "2023-08-27T22:57:41.772778",
     "exception": false,
     "start_time": "2023-08-27T22:57:41.769283",
     "status": "completed"
    },
    "tags": []
   },
   "outputs": [],
   "source": []
  }
 ],
 "metadata": {
  "kernelspec": {
   "display_name": "Python 3",
   "language": "python",
   "name": "python3"
  },
  "language_info": {
   "codemirror_mode": {
    "name": "ipython",
    "version": 3
   },
   "file_extension": ".py",
   "mimetype": "text/x-python",
   "name": "python",
   "nbconvert_exporter": "python",
   "pygments_lexer": "ipython3",
   "version": "3.10.12"
  },
  "papermill": {
   "default_parameters": {},
   "duration": 13.680278,
   "end_time": "2023-08-27T22:57:42.699046",
   "environment_variables": {},
   "exception": null,
   "input_path": "__notebook__.ipynb",
   "output_path": "__notebook__.ipynb",
   "parameters": {},
   "start_time": "2023-08-27T22:57:29.018768",
   "version": "2.4.0"
  }
 },
 "nbformat": 4,
 "nbformat_minor": 5
}
